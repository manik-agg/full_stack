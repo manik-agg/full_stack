{
 "cells": [
  {
   "cell_type": "code",
   "execution_count": 1,
   "metadata": {},
   "outputs": [],
   "source": [
    "import pandas as pd\n",
    "import numpy as np\n",
    "from sklearn.preprocessing import LabelEncoder\n",
    "import warnings\n",
    "warnings.filterwarnings('ignore')\n",
    "import datetime"
   ]
  },
  {
   "cell_type": "code",
   "execution_count": 346,
   "metadata": {},
   "outputs": [],
   "source": [
    "train_df = pd.read_csv('airline_delay_train_airline_delay_train_new.csv',parse_dates=[['FlightDate', 'DepTime']])"
   ]
  },
  {
   "cell_type": "code",
   "execution_count": 347,
   "metadata": {},
   "outputs": [],
   "source": [
    "test_df = pd.read_csv('airline_delay_test_airline_delay_test_new.csv', parse_dates=[['FlightDate', 'DepTime']])"
   ]
  },
  {
   "cell_type": "code",
   "execution_count": 348,
   "metadata": {},
   "outputs": [
    {
     "data": {
      "text/html": [
       "<div>\n",
       "<style scoped>\n",
       "    .dataframe tbody tr th:only-of-type {\n",
       "        vertical-align: middle;\n",
       "    }\n",
       "\n",
       "    .dataframe tbody tr th {\n",
       "        vertical-align: top;\n",
       "    }\n",
       "\n",
       "    .dataframe thead th {\n",
       "        text-align: right;\n",
       "    }\n",
       "</style>\n",
       "<table border=\"1\" class=\"dataframe\">\n",
       "  <thead>\n",
       "    <tr style=\"text-align: right;\">\n",
       "      <th></th>\n",
       "      <th>FlightDate_DepTime</th>\n",
       "      <th>UniqueCarrier</th>\n",
       "      <th>Origin</th>\n",
       "      <th>Dest</th>\n",
       "      <th>Distance</th>\n",
       "      <th>dep_delayed_15min</th>\n",
       "      <th>Day_of_Week</th>\n",
       "    </tr>\n",
       "  </thead>\n",
       "  <tbody>\n",
       "    <tr>\n",
       "      <th>0</th>\n",
       "      <td>2010-01-17 17:05:00</td>\n",
       "      <td>MQ</td>\n",
       "      <td>CVG</td>\n",
       "      <td>DFW</td>\n",
       "      <td>812</td>\n",
       "      <td>1</td>\n",
       "      <td>Sunday</td>\n",
       "    </tr>\n",
       "    <tr>\n",
       "      <th>1</th>\n",
       "      <td>2010-01-29 17:03:00</td>\n",
       "      <td>MQ</td>\n",
       "      <td>OMA</td>\n",
       "      <td>ORD</td>\n",
       "      <td>416</td>\n",
       "      <td>0</td>\n",
       "      <td>Friday</td>\n",
       "    </tr>\n",
       "    <tr>\n",
       "      <th>2</th>\n",
       "      <td>2010-01-31 18:03:00</td>\n",
       "      <td>US</td>\n",
       "      <td>SJC</td>\n",
       "      <td>PHX</td>\n",
       "      <td>622</td>\n",
       "      <td>0</td>\n",
       "      <td>Sunday</td>\n",
       "    </tr>\n",
       "    <tr>\n",
       "      <th>3</th>\n",
       "      <td>2010-01-26 16:42:00</td>\n",
       "      <td>YV</td>\n",
       "      <td>MTJ</td>\n",
       "      <td>DEN</td>\n",
       "      <td>197</td>\n",
       "      <td>0</td>\n",
       "      <td>Tuesday</td>\n",
       "    </tr>\n",
       "    <tr>\n",
       "      <th>4</th>\n",
       "      <td>2010-01-06 17:53:00</td>\n",
       "      <td>US</td>\n",
       "      <td>PHL</td>\n",
       "      <td>ORD</td>\n",
       "      <td>678</td>\n",
       "      <td>0</td>\n",
       "      <td>Wednesday</td>\n",
       "    </tr>\n",
       "  </tbody>\n",
       "</table>\n",
       "</div>"
      ],
      "text/plain": [
       "   FlightDate_DepTime UniqueCarrier Origin Dest  Distance  dep_delayed_15min  \\\n",
       "0 2010-01-17 17:05:00            MQ    CVG  DFW       812                  1   \n",
       "1 2010-01-29 17:03:00            MQ    OMA  ORD       416                  0   \n",
       "2 2010-01-31 18:03:00            US    SJC  PHX       622                  0   \n",
       "3 2010-01-26 16:42:00            YV    MTJ  DEN       197                  0   \n",
       "4 2010-01-06 17:53:00            US    PHL  ORD       678                  0   \n",
       "\n",
       "  Day_of_Week  \n",
       "0      Sunday  \n",
       "1      Friday  \n",
       "2      Sunday  \n",
       "3     Tuesday  \n",
       "4   Wednesday  "
      ]
     },
     "execution_count": 348,
     "metadata": {},
     "output_type": "execute_result"
    }
   ],
   "source": [
    "train_df.head()"
   ]
  },
  {
   "cell_type": "markdown",
   "metadata": {},
   "source": [
    "### examine the dataset"
   ]
  },
  {
   "cell_type": "code",
   "execution_count": 349,
   "metadata": {},
   "outputs": [
    {
     "data": {
      "text/html": [
       "<div>\n",
       "<style scoped>\n",
       "    .dataframe tbody tr th:only-of-type {\n",
       "        vertical-align: middle;\n",
       "    }\n",
       "\n",
       "    .dataframe tbody tr th {\n",
       "        vertical-align: top;\n",
       "    }\n",
       "\n",
       "    .dataframe thead th {\n",
       "        text-align: right;\n",
       "    }\n",
       "</style>\n",
       "<table border=\"1\" class=\"dataframe\">\n",
       "  <thead>\n",
       "    <tr style=\"text-align: right;\">\n",
       "      <th></th>\n",
       "      <th>UniqueCarrier</th>\n",
       "      <th>Origin</th>\n",
       "      <th>Dest</th>\n",
       "      <th>Day_of_Week</th>\n",
       "    </tr>\n",
       "  </thead>\n",
       "  <tbody>\n",
       "    <tr>\n",
       "      <th>count</th>\n",
       "      <td>406045</td>\n",
       "      <td>406045</td>\n",
       "      <td>406045</td>\n",
       "      <td>406045</td>\n",
       "    </tr>\n",
       "    <tr>\n",
       "      <th>unique</th>\n",
       "      <td>18</td>\n",
       "      <td>284</td>\n",
       "      <td>283</td>\n",
       "      <td>7</td>\n",
       "    </tr>\n",
       "    <tr>\n",
       "      <th>top</th>\n",
       "      <td>WN</td>\n",
       "      <td>ATL</td>\n",
       "      <td>ATL</td>\n",
       "      <td>Friday</td>\n",
       "    </tr>\n",
       "    <tr>\n",
       "      <th>freq</th>\n",
       "      <td>70554</td>\n",
       "      <td>26082</td>\n",
       "      <td>26044</td>\n",
       "      <td>67163</td>\n",
       "    </tr>\n",
       "  </tbody>\n",
       "</table>\n",
       "</div>"
      ],
      "text/plain": [
       "       UniqueCarrier  Origin    Dest Day_of_Week\n",
       "count         406045  406045  406045      406045\n",
       "unique            18     284     283           7\n",
       "top               WN     ATL     ATL      Friday\n",
       "freq           70554   26082   26044       67163"
      ]
     },
     "execution_count": 349,
     "metadata": {},
     "output_type": "execute_result"
    }
   ],
   "source": [
    "train_df.describe(include=['O'])"
   ]
  },
  {
   "cell_type": "markdown",
   "metadata": {},
   "source": [
    "### check for missing values"
   ]
  },
  {
   "cell_type": "code",
   "execution_count": 350,
   "metadata": {},
   "outputs": [
    {
     "data": {
      "text/plain": [
       "FlightDate_DepTime    0\n",
       "UniqueCarrier         0\n",
       "Origin                0\n",
       "Dest                  0\n",
       "Distance              0\n",
       "dep_delayed_15min     0\n",
       "Day_of_Week           0\n",
       "dtype: int64"
      ]
     },
     "execution_count": 350,
     "metadata": {},
     "output_type": "execute_result"
    }
   ],
   "source": [
    "train_df.isnull().sum()"
   ]
  },
  {
   "cell_type": "markdown",
   "metadata": {},
   "source": [
    "### check for duplicates"
   ]
  },
  {
   "cell_type": "code",
   "execution_count": 351,
   "metadata": {},
   "outputs": [
    {
     "data": {
      "text/plain": [
       "308"
      ]
     },
     "execution_count": 351,
     "metadata": {},
     "output_type": "execute_result"
    }
   ],
   "source": [
    "train_df.duplicated().sum()"
   ]
  },
  {
   "cell_type": "code",
   "execution_count": 352,
   "metadata": {},
   "outputs": [
    {
     "data": {
      "text/plain": [
       "(406045, 7)"
      ]
     },
     "execution_count": 352,
     "metadata": {},
     "output_type": "execute_result"
    }
   ],
   "source": [
    "train_df.shape"
   ]
  },
  {
   "cell_type": "code",
   "execution_count": 353,
   "metadata": {},
   "outputs": [],
   "source": [
    "duplicated_records = train_df[train_df.duplicated()]"
   ]
  },
  {
   "cell_type": "code",
   "execution_count": 354,
   "metadata": {},
   "outputs": [
    {
     "data": {
      "text/html": [
       "<div>\n",
       "<style scoped>\n",
       "    .dataframe tbody tr th:only-of-type {\n",
       "        vertical-align: middle;\n",
       "    }\n",
       "\n",
       "    .dataframe tbody tr th {\n",
       "        vertical-align: top;\n",
       "    }\n",
       "\n",
       "    .dataframe thead th {\n",
       "        text-align: right;\n",
       "    }\n",
       "</style>\n",
       "<table border=\"1\" class=\"dataframe\">\n",
       "  <thead>\n",
       "    <tr style=\"text-align: right;\">\n",
       "      <th></th>\n",
       "      <th>FlightDate_DepTime</th>\n",
       "      <th>UniqueCarrier</th>\n",
       "      <th>Origin</th>\n",
       "      <th>Dest</th>\n",
       "      <th>Distance</th>\n",
       "      <th>dep_delayed_15min</th>\n",
       "      <th>Day_of_Week</th>\n",
       "    </tr>\n",
       "  </thead>\n",
       "  <tbody>\n",
       "    <tr>\n",
       "      <th>5825</th>\n",
       "      <td>2010-01-29 12:00:00</td>\n",
       "      <td>OH</td>\n",
       "      <td>ROC</td>\n",
       "      <td>JFK</td>\n",
       "      <td>264</td>\n",
       "      <td>0</td>\n",
       "      <td>Friday</td>\n",
       "    </tr>\n",
       "    <tr>\n",
       "      <th>35944</th>\n",
       "      <td>2010-01-13 20:02:00</td>\n",
       "      <td>US</td>\n",
       "      <td>CLT</td>\n",
       "      <td>RSW</td>\n",
       "      <td>600</td>\n",
       "      <td>0</td>\n",
       "      <td>Wednesday</td>\n",
       "    </tr>\n",
       "    <tr>\n",
       "      <th>41668</th>\n",
       "      <td>2010-01-21 12:02:00</td>\n",
       "      <td>XE</td>\n",
       "      <td>CMH</td>\n",
       "      <td>EWR</td>\n",
       "      <td>462</td>\n",
       "      <td>0</td>\n",
       "      <td>Thursday</td>\n",
       "    </tr>\n",
       "    <tr>\n",
       "      <th>41936</th>\n",
       "      <td>2010-01-05 12:04:00</td>\n",
       "      <td>WN</td>\n",
       "      <td>SFO</td>\n",
       "      <td>DEN</td>\n",
       "      <td>967</td>\n",
       "      <td>0</td>\n",
       "      <td>Tuesday</td>\n",
       "    </tr>\n",
       "    <tr>\n",
       "      <th>42349</th>\n",
       "      <td>2010-01-10 11:02:00</td>\n",
       "      <td>AA</td>\n",
       "      <td>BOS</td>\n",
       "      <td>DFW</td>\n",
       "      <td>1562</td>\n",
       "      <td>0</td>\n",
       "      <td>Sunday</td>\n",
       "    </tr>\n",
       "    <tr>\n",
       "      <th>42687</th>\n",
       "      <td>2010-01-19 12:05:00</td>\n",
       "      <td>YV</td>\n",
       "      <td>ELP</td>\n",
       "      <td>PHX</td>\n",
       "      <td>347</td>\n",
       "      <td>0</td>\n",
       "      <td>Tuesday</td>\n",
       "    </tr>\n",
       "    <tr>\n",
       "      <th>56527</th>\n",
       "      <td>2010-01-22 19:04:00</td>\n",
       "      <td>F9</td>\n",
       "      <td>PHX</td>\n",
       "      <td>DEN</td>\n",
       "      <td>602</td>\n",
       "      <td>0</td>\n",
       "      <td>Friday</td>\n",
       "    </tr>\n",
       "    <tr>\n",
       "      <th>58254</th>\n",
       "      <td>2010-01-18 12:01:00</td>\n",
       "      <td>AS</td>\n",
       "      <td>SEA</td>\n",
       "      <td>ANC</td>\n",
       "      <td>1449</td>\n",
       "      <td>0</td>\n",
       "      <td>Monday</td>\n",
       "    </tr>\n",
       "    <tr>\n",
       "      <th>62688</th>\n",
       "      <td>2010-01-24 13:02:00</td>\n",
       "      <td>AA</td>\n",
       "      <td>SAN</td>\n",
       "      <td>DFW</td>\n",
       "      <td>1171</td>\n",
       "      <td>0</td>\n",
       "      <td>Sunday</td>\n",
       "    </tr>\n",
       "    <tr>\n",
       "      <th>65827</th>\n",
       "      <td>2010-01-18 13:07:00</td>\n",
       "      <td>HA</td>\n",
       "      <td>OGG</td>\n",
       "      <td>HNL</td>\n",
       "      <td>100</td>\n",
       "      <td>0</td>\n",
       "      <td>Monday</td>\n",
       "    </tr>\n",
       "    <tr>\n",
       "      <th>68774</th>\n",
       "      <td>2010-01-06 09:07:00</td>\n",
       "      <td>DL</td>\n",
       "      <td>TPA</td>\n",
       "      <td>ATL</td>\n",
       "      <td>406</td>\n",
       "      <td>1</td>\n",
       "      <td>Wednesday</td>\n",
       "    </tr>\n",
       "    <tr>\n",
       "      <th>75117</th>\n",
       "      <td>2010-01-26 23:06:00</td>\n",
       "      <td>WN</td>\n",
       "      <td>OAK</td>\n",
       "      <td>SNA</td>\n",
       "      <td>371</td>\n",
       "      <td>0</td>\n",
       "      <td>Tuesday</td>\n",
       "    </tr>\n",
       "    <tr>\n",
       "      <th>77365</th>\n",
       "      <td>2010-01-01 18:09:00</td>\n",
       "      <td>B6</td>\n",
       "      <td>BOS</td>\n",
       "      <td>FLL</td>\n",
       "      <td>1237</td>\n",
       "      <td>1</td>\n",
       "      <td>Friday</td>\n",
       "    </tr>\n",
       "    <tr>\n",
       "      <th>80912</th>\n",
       "      <td>2010-01-01 19:01:00</td>\n",
       "      <td>MQ</td>\n",
       "      <td>CID</td>\n",
       "      <td>DFW</td>\n",
       "      <td>685</td>\n",
       "      <td>0</td>\n",
       "      <td>Friday</td>\n",
       "    </tr>\n",
       "    <tr>\n",
       "      <th>82671</th>\n",
       "      <td>2010-01-03 17:06:00</td>\n",
       "      <td>EV</td>\n",
       "      <td>ILM</td>\n",
       "      <td>ATL</td>\n",
       "      <td>377</td>\n",
       "      <td>1</td>\n",
       "      <td>Sunday</td>\n",
       "    </tr>\n",
       "  </tbody>\n",
       "</table>\n",
       "</div>"
      ],
      "text/plain": [
       "       FlightDate_DepTime UniqueCarrier Origin Dest  Distance  \\\n",
       "5825  2010-01-29 12:00:00            OH    ROC  JFK       264   \n",
       "35944 2010-01-13 20:02:00            US    CLT  RSW       600   \n",
       "41668 2010-01-21 12:02:00            XE    CMH  EWR       462   \n",
       "41936 2010-01-05 12:04:00            WN    SFO  DEN       967   \n",
       "42349 2010-01-10 11:02:00            AA    BOS  DFW      1562   \n",
       "42687 2010-01-19 12:05:00            YV    ELP  PHX       347   \n",
       "56527 2010-01-22 19:04:00            F9    PHX  DEN       602   \n",
       "58254 2010-01-18 12:01:00            AS    SEA  ANC      1449   \n",
       "62688 2010-01-24 13:02:00            AA    SAN  DFW      1171   \n",
       "65827 2010-01-18 13:07:00            HA    OGG  HNL       100   \n",
       "68774 2010-01-06 09:07:00            DL    TPA  ATL       406   \n",
       "75117 2010-01-26 23:06:00            WN    OAK  SNA       371   \n",
       "77365 2010-01-01 18:09:00            B6    BOS  FLL      1237   \n",
       "80912 2010-01-01 19:01:00            MQ    CID  DFW       685   \n",
       "82671 2010-01-03 17:06:00            EV    ILM  ATL       377   \n",
       "\n",
       "       dep_delayed_15min Day_of_Week  \n",
       "5825                   0      Friday  \n",
       "35944                  0   Wednesday  \n",
       "41668                  0    Thursday  \n",
       "41936                  0     Tuesday  \n",
       "42349                  0      Sunday  \n",
       "42687                  0     Tuesday  \n",
       "56527                  0      Friday  \n",
       "58254                  0      Monday  \n",
       "62688                  0      Sunday  \n",
       "65827                  0      Monday  \n",
       "68774                  1   Wednesday  \n",
       "75117                  0     Tuesday  \n",
       "77365                  1      Friday  \n",
       "80912                  0      Friday  \n",
       "82671                  1      Sunday  "
      ]
     },
     "execution_count": 354,
     "metadata": {},
     "output_type": "execute_result"
    }
   ],
   "source": [
    "duplicated_records.head(15)"
   ]
  },
  {
   "cell_type": "code",
   "execution_count": 355,
   "metadata": {},
   "outputs": [
    {
     "data": {
      "text/html": [
       "<div>\n",
       "<style scoped>\n",
       "    .dataframe tbody tr th:only-of-type {\n",
       "        vertical-align: middle;\n",
       "    }\n",
       "\n",
       "    .dataframe tbody tr th {\n",
       "        vertical-align: top;\n",
       "    }\n",
       "\n",
       "    .dataframe thead th {\n",
       "        text-align: right;\n",
       "    }\n",
       "</style>\n",
       "<table border=\"1\" class=\"dataframe\">\n",
       "  <thead>\n",
       "    <tr style=\"text-align: right;\">\n",
       "      <th></th>\n",
       "      <th>FlightDate_DepTime</th>\n",
       "      <th>UniqueCarrier</th>\n",
       "      <th>Origin</th>\n",
       "      <th>Dest</th>\n",
       "      <th>Distance</th>\n",
       "      <th>dep_delayed_15min</th>\n",
       "      <th>Day_of_Week</th>\n",
       "    </tr>\n",
       "  </thead>\n",
       "  <tbody>\n",
       "    <tr>\n",
       "      <th>187</th>\n",
       "      <td>2010-01-27 16:14:00</td>\n",
       "      <td>OO</td>\n",
       "      <td>ORD</td>\n",
       "      <td>CVG</td>\n",
       "      <td>264</td>\n",
       "      <td>0</td>\n",
       "      <td>Wednesday</td>\n",
       "    </tr>\n",
       "    <tr>\n",
       "      <th>4845</th>\n",
       "      <td>2010-01-02 16:41:00</td>\n",
       "      <td>OO</td>\n",
       "      <td>ORD</td>\n",
       "      <td>CVG</td>\n",
       "      <td>264</td>\n",
       "      <td>0</td>\n",
       "      <td>Saturday</td>\n",
       "    </tr>\n",
       "    <tr>\n",
       "      <th>8216</th>\n",
       "      <td>2010-01-20 17:06:00</td>\n",
       "      <td>OO</td>\n",
       "      <td>ORD</td>\n",
       "      <td>CVG</td>\n",
       "      <td>264</td>\n",
       "      <td>0</td>\n",
       "      <td>Wednesday</td>\n",
       "    </tr>\n",
       "    <tr>\n",
       "      <th>10147</th>\n",
       "      <td>2010-01-09 23:06:00</td>\n",
       "      <td>OO</td>\n",
       "      <td>ORD</td>\n",
       "      <td>CVG</td>\n",
       "      <td>264</td>\n",
       "      <td>0</td>\n",
       "      <td>Saturday</td>\n",
       "    </tr>\n",
       "    <tr>\n",
       "      <th>14621</th>\n",
       "      <td>2010-01-11 22:06:00</td>\n",
       "      <td>OO</td>\n",
       "      <td>ORD</td>\n",
       "      <td>CVG</td>\n",
       "      <td>264</td>\n",
       "      <td>0</td>\n",
       "      <td>Monday</td>\n",
       "    </tr>\n",
       "    <tr>\n",
       "      <th>...</th>\n",
       "      <td>...</td>\n",
       "      <td>...</td>\n",
       "      <td>...</td>\n",
       "      <td>...</td>\n",
       "      <td>...</td>\n",
       "      <td>...</td>\n",
       "      <td>...</td>\n",
       "    </tr>\n",
       "    <tr>\n",
       "      <th>357399</th>\n",
       "      <td>2010-01-01 13:19:00</td>\n",
       "      <td>OO</td>\n",
       "      <td>ORD</td>\n",
       "      <td>CVG</td>\n",
       "      <td>264</td>\n",
       "      <td>0</td>\n",
       "      <td>Friday</td>\n",
       "    </tr>\n",
       "    <tr>\n",
       "      <th>359057</th>\n",
       "      <td>2010-01-11 13:25:00</td>\n",
       "      <td>OO</td>\n",
       "      <td>ORD</td>\n",
       "      <td>CVG</td>\n",
       "      <td>264</td>\n",
       "      <td>0</td>\n",
       "      <td>Monday</td>\n",
       "    </tr>\n",
       "    <tr>\n",
       "      <th>372230</th>\n",
       "      <td>2010-01-17 15:56:00</td>\n",
       "      <td>OO</td>\n",
       "      <td>ORD</td>\n",
       "      <td>CVG</td>\n",
       "      <td>264</td>\n",
       "      <td>0</td>\n",
       "      <td>Sunday</td>\n",
       "    </tr>\n",
       "    <tr>\n",
       "      <th>385759</th>\n",
       "      <td>2010-01-25 13:17:00</td>\n",
       "      <td>OO</td>\n",
       "      <td>ORD</td>\n",
       "      <td>CVG</td>\n",
       "      <td>264</td>\n",
       "      <td>0</td>\n",
       "      <td>Monday</td>\n",
       "    </tr>\n",
       "    <tr>\n",
       "      <th>401732</th>\n",
       "      <td>2010-01-18 17:24:00</td>\n",
       "      <td>OO</td>\n",
       "      <td>ORD</td>\n",
       "      <td>CVG</td>\n",
       "      <td>264</td>\n",
       "      <td>1</td>\n",
       "      <td>Monday</td>\n",
       "    </tr>\n",
       "  </tbody>\n",
       "</table>\n",
       "<p>70 rows × 7 columns</p>\n",
       "</div>"
      ],
      "text/plain": [
       "        FlightDate_DepTime UniqueCarrier Origin Dest  Distance  \\\n",
       "187    2010-01-27 16:14:00            OO    ORD  CVG       264   \n",
       "4845   2010-01-02 16:41:00            OO    ORD  CVG       264   \n",
       "8216   2010-01-20 17:06:00            OO    ORD  CVG       264   \n",
       "10147  2010-01-09 23:06:00            OO    ORD  CVG       264   \n",
       "14621  2010-01-11 22:06:00            OO    ORD  CVG       264   \n",
       "...                    ...           ...    ...  ...       ...   \n",
       "357399 2010-01-01 13:19:00            OO    ORD  CVG       264   \n",
       "359057 2010-01-11 13:25:00            OO    ORD  CVG       264   \n",
       "372230 2010-01-17 15:56:00            OO    ORD  CVG       264   \n",
       "385759 2010-01-25 13:17:00            OO    ORD  CVG       264   \n",
       "401732 2010-01-18 17:24:00            OO    ORD  CVG       264   \n",
       "\n",
       "        dep_delayed_15min Day_of_Week  \n",
       "187                     0   Wednesday  \n",
       "4845                    0    Saturday  \n",
       "8216                    0   Wednesday  \n",
       "10147                   0    Saturday  \n",
       "14621                   0      Monday  \n",
       "...                   ...         ...  \n",
       "357399                  0      Friday  \n",
       "359057                  0      Monday  \n",
       "372230                  0      Sunday  \n",
       "385759                  0      Monday  \n",
       "401732                  1      Monday  \n",
       "\n",
       "[70 rows x 7 columns]"
      ]
     },
     "execution_count": 355,
     "metadata": {},
     "output_type": "execute_result"
    }
   ],
   "source": [
    "train_df[(train_df.Distance == 264) & (train_df.Origin == 'ORD') &(train_df.UniqueCarrier == 'OO')]"
   ]
  },
  {
   "cell_type": "code",
   "execution_count": 356,
   "metadata": {},
   "outputs": [
    {
     "name": "stdout",
     "output_type": "stream",
     "text": [
      "<class 'pandas.core.frame.DataFrame'>\n",
      "RangeIndex: 406045 entries, 0 to 406044\n",
      "Data columns (total 7 columns):\n",
      " #   Column              Non-Null Count   Dtype         \n",
      "---  ------              --------------   -----         \n",
      " 0   FlightDate_DepTime  406045 non-null  datetime64[ns]\n",
      " 1   UniqueCarrier       406045 non-null  object        \n",
      " 2   Origin              406045 non-null  object        \n",
      " 3   Dest                406045 non-null  object        \n",
      " 4   Distance            406045 non-null  int64         \n",
      " 5   dep_delayed_15min   406045 non-null  int64         \n",
      " 6   Day_of_Week         406045 non-null  object        \n",
      "dtypes: datetime64[ns](1), int64(2), object(4)\n",
      "memory usage: 21.7+ MB\n"
     ]
    }
   ],
   "source": [
    "train_df.info()"
   ]
  },
  {
   "cell_type": "code",
   "execution_count": 357,
   "metadata": {},
   "outputs": [],
   "source": [
    "def new_datetime_features(df,column):\n",
    "#     df['Month'] = df[column].dt.month.astype('object')\n",
    "    df['Week'] = df[column].dt.week.astype('object')\n",
    "    df['Day'] = df[column].dt.day.astype('object')\n",
    "    df['Hour'] = df[column].dt.hour.astype('object')\n",
    "    return df"
   ]
  },
  {
   "cell_type": "code",
   "execution_count": 358,
   "metadata": {},
   "outputs": [],
   "source": [
    "train_df = new_datetime_features(train_df,'FlightDate_DepTime')"
   ]
  },
  {
   "cell_type": "code",
   "execution_count": 359,
   "metadata": {},
   "outputs": [],
   "source": [
    "test_df = new_datetime_features(test_df,'FlightDate_DepTime')"
   ]
  },
  {
   "cell_type": "code",
   "execution_count": 360,
   "metadata": {},
   "outputs": [
    {
     "data": {
      "text/html": [
       "<div>\n",
       "<style scoped>\n",
       "    .dataframe tbody tr th:only-of-type {\n",
       "        vertical-align: middle;\n",
       "    }\n",
       "\n",
       "    .dataframe tbody tr th {\n",
       "        vertical-align: top;\n",
       "    }\n",
       "\n",
       "    .dataframe thead th {\n",
       "        text-align: right;\n",
       "    }\n",
       "</style>\n",
       "<table border=\"1\" class=\"dataframe\">\n",
       "  <thead>\n",
       "    <tr style=\"text-align: right;\">\n",
       "      <th></th>\n",
       "      <th>FlightDate_DepTime</th>\n",
       "      <th>UniqueCarrier</th>\n",
       "      <th>Origin</th>\n",
       "      <th>Dest</th>\n",
       "      <th>Distance</th>\n",
       "      <th>dep_delayed_15min</th>\n",
       "      <th>Day_of_Week</th>\n",
       "      <th>Week</th>\n",
       "      <th>Day</th>\n",
       "      <th>Hour</th>\n",
       "    </tr>\n",
       "  </thead>\n",
       "  <tbody>\n",
       "    <tr>\n",
       "      <th>0</th>\n",
       "      <td>2010-01-17 17:05:00</td>\n",
       "      <td>MQ</td>\n",
       "      <td>CVG</td>\n",
       "      <td>DFW</td>\n",
       "      <td>812</td>\n",
       "      <td>1</td>\n",
       "      <td>Sunday</td>\n",
       "      <td>2</td>\n",
       "      <td>17</td>\n",
       "      <td>17</td>\n",
       "    </tr>\n",
       "    <tr>\n",
       "      <th>1</th>\n",
       "      <td>2010-01-29 17:03:00</td>\n",
       "      <td>MQ</td>\n",
       "      <td>OMA</td>\n",
       "      <td>ORD</td>\n",
       "      <td>416</td>\n",
       "      <td>0</td>\n",
       "      <td>Friday</td>\n",
       "      <td>4</td>\n",
       "      <td>29</td>\n",
       "      <td>17</td>\n",
       "    </tr>\n",
       "    <tr>\n",
       "      <th>2</th>\n",
       "      <td>2010-01-31 18:03:00</td>\n",
       "      <td>US</td>\n",
       "      <td>SJC</td>\n",
       "      <td>PHX</td>\n",
       "      <td>622</td>\n",
       "      <td>0</td>\n",
       "      <td>Sunday</td>\n",
       "      <td>4</td>\n",
       "      <td>31</td>\n",
       "      <td>18</td>\n",
       "    </tr>\n",
       "    <tr>\n",
       "      <th>3</th>\n",
       "      <td>2010-01-26 16:42:00</td>\n",
       "      <td>YV</td>\n",
       "      <td>MTJ</td>\n",
       "      <td>DEN</td>\n",
       "      <td>197</td>\n",
       "      <td>0</td>\n",
       "      <td>Tuesday</td>\n",
       "      <td>4</td>\n",
       "      <td>26</td>\n",
       "      <td>16</td>\n",
       "    </tr>\n",
       "    <tr>\n",
       "      <th>4</th>\n",
       "      <td>2010-01-06 17:53:00</td>\n",
       "      <td>US</td>\n",
       "      <td>PHL</td>\n",
       "      <td>ORD</td>\n",
       "      <td>678</td>\n",
       "      <td>0</td>\n",
       "      <td>Wednesday</td>\n",
       "      <td>1</td>\n",
       "      <td>6</td>\n",
       "      <td>17</td>\n",
       "    </tr>\n",
       "  </tbody>\n",
       "</table>\n",
       "</div>"
      ],
      "text/plain": [
       "   FlightDate_DepTime UniqueCarrier Origin Dest  Distance  dep_delayed_15min  \\\n",
       "0 2010-01-17 17:05:00            MQ    CVG  DFW       812                  1   \n",
       "1 2010-01-29 17:03:00            MQ    OMA  ORD       416                  0   \n",
       "2 2010-01-31 18:03:00            US    SJC  PHX       622                  0   \n",
       "3 2010-01-26 16:42:00            YV    MTJ  DEN       197                  0   \n",
       "4 2010-01-06 17:53:00            US    PHL  ORD       678                  0   \n",
       "\n",
       "  Day_of_Week Week Day Hour  \n",
       "0      Sunday    2  17   17  \n",
       "1      Friday    4  29   17  \n",
       "2      Sunday    4  31   18  \n",
       "3     Tuesday    4  26   16  \n",
       "4   Wednesday    1   6   17  "
      ]
     },
     "execution_count": 360,
     "metadata": {},
     "output_type": "execute_result"
    }
   ],
   "source": [
    "train_df.head()"
   ]
  },
  {
   "cell_type": "code",
   "execution_count": 361,
   "metadata": {},
   "outputs": [
    {
     "data": {
      "text/html": [
       "<div>\n",
       "<style scoped>\n",
       "    .dataframe tbody tr th:only-of-type {\n",
       "        vertical-align: middle;\n",
       "    }\n",
       "\n",
       "    .dataframe tbody tr th {\n",
       "        vertical-align: top;\n",
       "    }\n",
       "\n",
       "    .dataframe thead th {\n",
       "        text-align: right;\n",
       "    }\n",
       "</style>\n",
       "<table border=\"1\" class=\"dataframe\">\n",
       "  <thead>\n",
       "    <tr style=\"text-align: right;\">\n",
       "      <th></th>\n",
       "      <th>UniqueCarrier</th>\n",
       "      <th>Origin</th>\n",
       "      <th>Dest</th>\n",
       "      <th>Day_of_Week</th>\n",
       "      <th>Week</th>\n",
       "      <th>Day</th>\n",
       "      <th>Hour</th>\n",
       "    </tr>\n",
       "  </thead>\n",
       "  <tbody>\n",
       "    <tr>\n",
       "      <th>count</th>\n",
       "      <td>406045</td>\n",
       "      <td>406045</td>\n",
       "      <td>406045</td>\n",
       "      <td>406045</td>\n",
       "      <td>406045</td>\n",
       "      <td>406045</td>\n",
       "      <td>406045</td>\n",
       "    </tr>\n",
       "    <tr>\n",
       "      <th>unique</th>\n",
       "      <td>18</td>\n",
       "      <td>284</td>\n",
       "      <td>283</td>\n",
       "      <td>7</td>\n",
       "      <td>5</td>\n",
       "      <td>31</td>\n",
       "      <td>24</td>\n",
       "    </tr>\n",
       "    <tr>\n",
       "      <th>top</th>\n",
       "      <td>WN</td>\n",
       "      <td>ATL</td>\n",
       "      <td>ATL</td>\n",
       "      <td>Friday</td>\n",
       "      <td>2</td>\n",
       "      <td>4</td>\n",
       "      <td>13</td>\n",
       "    </tr>\n",
       "    <tr>\n",
       "      <th>freq</th>\n",
       "      <td>70554</td>\n",
       "      <td>26082</td>\n",
       "      <td>26044</td>\n",
       "      <td>67163</td>\n",
       "      <td>92780</td>\n",
       "      <td>14221</td>\n",
       "      <td>35541</td>\n",
       "    </tr>\n",
       "  </tbody>\n",
       "</table>\n",
       "</div>"
      ],
      "text/plain": [
       "       UniqueCarrier  Origin    Dest Day_of_Week    Week     Day    Hour\n",
       "count         406045  406045  406045      406045  406045  406045  406045\n",
       "unique            18     284     283           7       5      31      24\n",
       "top               WN     ATL     ATL      Friday       2       4      13\n",
       "freq           70554   26082   26044       67163   92780   14221   35541"
      ]
     },
     "execution_count": 361,
     "metadata": {},
     "output_type": "execute_result"
    }
   ],
   "source": [
    "train_df.describe(include=['O'])"
   ]
  },
  {
   "cell_type": "code",
   "execution_count": 362,
   "metadata": {},
   "outputs": [
    {
     "name": "stdout",
     "output_type": "stream",
     "text": [
      "<class 'pandas.core.frame.DataFrame'>\n",
      "RangeIndex: 406045 entries, 0 to 406044\n",
      "Data columns (total 10 columns):\n",
      " #   Column              Non-Null Count   Dtype         \n",
      "---  ------              --------------   -----         \n",
      " 0   FlightDate_DepTime  406045 non-null  datetime64[ns]\n",
      " 1   UniqueCarrier       406045 non-null  object        \n",
      " 2   Origin              406045 non-null  object        \n",
      " 3   Dest                406045 non-null  object        \n",
      " 4   Distance            406045 non-null  int64         \n",
      " 5   dep_delayed_15min   406045 non-null  int64         \n",
      " 6   Day_of_Week         406045 non-null  object        \n",
      " 7   Week                406045 non-null  object        \n",
      " 8   Day                 406045 non-null  object        \n",
      " 9   Hour                406045 non-null  object        \n",
      "dtypes: datetime64[ns](1), int64(2), object(7)\n",
      "memory usage: 31.0+ MB\n"
     ]
    }
   ],
   "source": [
    "train_df.info()"
   ]
  },
  {
   "cell_type": "code",
   "execution_count": 363,
   "metadata": {},
   "outputs": [],
   "source": [
    "from sklearn.model_selection import train_test_split\n",
    "from sklearn.metrics import accuracy_score, classification_report,precision_score,recall_score,roc_auc_score\n",
    "\n",
    "def test_train_splits(df, target, split_size, seed):\n",
    "    X = df.drop([target],axis =1)\n",
    "    y = df[target]\n",
    "    X_trn, X_tst, y_trn, y_tst = train_test_split(X,y,test_size = split_size, random_state = seed, stratify = y)\n",
    "    return X_trn, X_tst, y_trn, y_tst"
   ]
  },
  {
   "cell_type": "markdown",
   "metadata": {},
   "source": [
    "### Examine target variable"
   ]
  },
  {
   "cell_type": "code",
   "execution_count": 364,
   "metadata": {},
   "outputs": [
    {
     "data": {
      "text/plain": [
       "0    328406\n",
       "1     77639\n",
       "Name: dep_delayed_15min, dtype: int64"
      ]
     },
     "execution_count": 364,
     "metadata": {},
     "output_type": "execute_result"
    }
   ],
   "source": [
    "train_df.dep_delayed_15min.value_counts()"
   ]
  },
  {
   "cell_type": "code",
   "execution_count": 365,
   "metadata": {},
   "outputs": [],
   "source": [
    "## function to drop specific columns in the dataframe\n",
    "\n",
    "def drop_columns(df, col):\n",
    "    df = df.drop([col], axis=1)\n",
    "    return df"
   ]
  },
  {
   "cell_type": "code",
   "execution_count": 366,
   "metadata": {},
   "outputs": [],
   "source": [
    "train_df = drop_columns(train_df,'FlightDate_DepTime')"
   ]
  },
  {
   "cell_type": "code",
   "execution_count": 367,
   "metadata": {},
   "outputs": [],
   "source": [
    "test_df = drop_columns(test_df,'FlightDate_DepTime')"
   ]
  },
  {
   "cell_type": "markdown",
   "metadata": {},
   "source": [
    "### Split dataset into train and validation"
   ]
  },
  {
   "cell_type": "code",
   "execution_count": 368,
   "metadata": {},
   "outputs": [],
   "source": [
    "## stratified split on dataset\n",
    "\n",
    "X_train, X_valid, y_train, y_valid = test_train_splits(train_df,'dep_delayed_15min', 0.2, 1)"
   ]
  },
  {
   "cell_type": "markdown",
   "metadata": {},
   "source": [
    "### preprocessing data"
   ]
  },
  {
   "cell_type": "code",
   "execution_count": 369,
   "metadata": {},
   "outputs": [],
   "source": [
    "def cat_num_var(df):\n",
    "    num_cols = df._get_numeric_data().columns.tolist()\n",
    "    cat_cols = list(set(df.columns) - set(num_cols))\n",
    "    return num_cols, cat_cols"
   ]
  },
  {
   "cell_type": "code",
   "execution_count": 370,
   "metadata": {},
   "outputs": [],
   "source": [
    "num_vars, cat_vars = cat_num_var(X_train)"
   ]
  },
  {
   "cell_type": "markdown",
   "metadata": {},
   "source": [
    "### Examine missing values"
   ]
  },
  {
   "cell_type": "code",
   "execution_count": 371,
   "metadata": {},
   "outputs": [
    {
     "data": {
      "text/plain": [
       "UniqueCarrier    0\n",
       "Origin           0\n",
       "Dest             0\n",
       "Distance         0\n",
       "Day_of_Week      0\n",
       "Week             0\n",
       "Day              0\n",
       "Hour             0\n",
       "dtype: int64"
      ]
     },
     "execution_count": 371,
     "metadata": {},
     "output_type": "execute_result"
    }
   ],
   "source": [
    "X_train.isnull().sum()"
   ]
  },
  {
   "cell_type": "code",
   "execution_count": null,
   "metadata": {},
   "outputs": [],
   "source": []
  },
  {
   "cell_type": "markdown",
   "metadata": {},
   "source": [
    "### Ordinal encoding categorical variables"
   ]
  },
  {
   "cell_type": "code",
   "execution_count": 225,
   "metadata": {},
   "outputs": [],
   "source": [
    "# from sklearn.preprocessing import LabelEncoder\n",
    "# # encoder_dict = {}\n",
    "# def encoding(df,column):\n",
    "#     encoder = LabelEncoder()\n",
    "#     encoder.fit(df[column])\n",
    "# #     encoder_dict.update({column: encoder})\n",
    "#     return encoder, df"
   ]
  },
  {
   "cell_type": "code",
   "execution_count": 372,
   "metadata": {},
   "outputs": [
    {
     "data": {
      "text/plain": [
       "['Origin', 'Dest', 'Day_of_Week', 'Day', 'Hour', 'UniqueCarrier', 'Week']"
      ]
     },
     "execution_count": 372,
     "metadata": {},
     "output_type": "execute_result"
    }
   ],
   "source": [
    "cat_vars"
   ]
  },
  {
   "cell_type": "code",
   "execution_count": 373,
   "metadata": {},
   "outputs": [],
   "source": [
    "cat_vars_to_transform = ['Origin', 'Dest', 'Day_of_Week', 'UniqueCarrier']"
   ]
  },
  {
   "cell_type": "code",
   "execution_count": 186,
   "metadata": {},
   "outputs": [],
   "source": [
    "# # for val in cat_vars_to_transform:\n",
    "# #     encoder_dict, X_train = encoding(X_train, val)\n",
    "\n",
    "# ordinal_encoder_origin, X_train = encoding(X_train,'Origin')\n",
    "# ordinal_encoder_dayofweek, X_train = encoding(X_train,'Day_of_Week')\n",
    "# ordinal_encoder_carrier, X_train = encoding(X_train,'UniqueCarrier')\n",
    "# ordinal_encoder_dest, X_train = encoding(X_train,'Dest')"
   ]
  },
  {
   "cell_type": "code",
   "execution_count": 188,
   "metadata": {},
   "outputs": [],
   "source": [
    "# def encoding_tranform(df, column, encoder):\n",
    "#     df[column] = encoder.transform(df[column])\n",
    "#     return df"
   ]
  },
  {
   "cell_type": "code",
   "execution_count": 189,
   "metadata": {},
   "outputs": [],
   "source": [
    "# X_train = encoding_tranform(X_train,'Origin', ordinal_encoder_origin)\n",
    "# X_train = encoding_tranform(X_train,'Day_of_Week', ordinal_encoder_dayofweek)\n",
    "# X_train = encoding_tranform(X_train,'UniqueCarrier', ordinal_encoder_carrier)\n",
    "# X_train = encoding_tranform(X_train,'Dest', ordinal_encoder_dest)"
   ]
  },
  {
   "cell_type": "markdown",
   "metadata": {},
   "source": [
    "### Making sklearn pipeline"
   ]
  },
  {
   "cell_type": "code",
   "execution_count": 377,
   "metadata": {},
   "outputs": [],
   "source": [
    "from sklearn.pipeline import Pipeline\n",
    "from sklearn.impute import SimpleImputer\n",
    "from sklearn.preprocessing import StandardScaler, OrdinalEncoder, OneHotEncoder\n",
    "from sklearn.compose import ColumnTransformer\n",
    "import category_encoders as ce\n",
    "\n",
    "numeric_transformer = Pipeline(steps=[\n",
    "    ('imputer', SimpleImputer(strategy='median'))])\n",
    "#     ('scaler', StandardScaler())])\n",
    "\n",
    "categorical_transformer = Pipeline(steps=[\n",
    "    ('imputer', SimpleImputer(strategy='constant', fill_value= -9999)),\n",
    "    ('catencoder', ce.ordinal.OrdinalEncoder())])\n",
    "#     ('targetencoder', ce.target_encoder.TargetEncoder(min_samples_leaf = 1, smoothing = 1))])\n",
    "#     ('countencoder', ce.count.CountEncoder(min_group_size = 10))])\n",
    "#     ('onehotencoder', OneHotEncoder(handle_unknown='ignore'))])\n",
    "\n",
    "preprocessor = ColumnTransformer(\n",
    "    transformers=[\n",
    "        ('num', numeric_transformer, num_vars),\n",
    "        ('cat', categorical_transformer, cat_vars_to_transform)])"
   ]
  },
  {
   "cell_type": "markdown",
   "metadata": {},
   "source": [
    "## Random forrest"
   ]
  },
  {
   "cell_type": "code",
   "execution_count": 375,
   "metadata": {},
   "outputs": [
    {
     "data": {
      "text/plain": [
       "GridSearchCV(cv=3,\n",
       "             estimator=Pipeline(steps=[('preprocessor',\n",
       "                                        ColumnTransformer(transformers=[('num',\n",
       "                                                                         Pipeline(steps=[('imputer',\n",
       "                                                                                          SimpleImputer(strategy='median'))]),\n",
       "                                                                         ['Distance']),\n",
       "                                                                        ('cat',\n",
       "                                                                         Pipeline(steps=[('imputer',\n",
       "                                                                                          SimpleImputer(fill_value=-9999,\n",
       "                                                                                                        strategy='constant')),\n",
       "                                                                                         ('targetencoder',\n",
       "                                                                                          TargetEncoder())]),\n",
       "                                                                         ['Origin',\n",
       "                                                                          'Dest',\n",
       "                                                                          'Day_of_Week',\n",
       "                                                                          'UniqueCarrier'])])),\n",
       "                                       ('classifier',\n",
       "                                        RandomForestClassifier(class_weight='balanced',\n",
       "                                                               random_state=2))]),\n",
       "             n_jobs=-1,\n",
       "             param_grid={'classifier__max_depth': [6, 7, 8],\n",
       "                         'classifier__max_features': ['auto', 0.7, 0.9],\n",
       "                         'classifier__n_estimators': [200, 500]},\n",
       "             scoring='neg_log_loss')"
      ]
     },
     "execution_count": 375,
     "metadata": {},
     "output_type": "execute_result"
    }
   ],
   "source": [
    "from sklearn.ensemble import RandomForestClassifier\n",
    "rf = Pipeline(steps=[('preprocessor', preprocessor),\n",
    "                      ('classifier', RandomForestClassifier(class_weight = 'balanced', random_state = 2))])\n",
    "\n",
    "param_grid = { \n",
    "    'classifier__n_estimators': [200, 500],\n",
    "    'classifier__max_features': ['auto',0.7,0.9],\n",
    "    'classifier__max_depth' : [6,7,8]}\n",
    "#     'classifier__criterion' :['gini', 'entropy']}\n",
    "\n",
    "grid = GridSearchCV(rf, cv= 3, n_jobs= -1, param_grid= param_grid, scoring='neg_log_loss')\n",
    "grid.fit(X_train, y_train)"
   ]
  },
  {
   "cell_type": "code",
   "execution_count": 376,
   "metadata": {},
   "outputs": [
    {
     "data": {
      "text/plain": [
       "nan"
      ]
     },
     "execution_count": 376,
     "metadata": {},
     "output_type": "execute_result"
    }
   ],
   "source": [
    "grid.best_score_"
   ]
  },
  {
   "cell_type": "code",
   "execution_count": 330,
   "metadata": {},
   "outputs": [
    {
     "data": {
      "text/plain": [
       "{'classifier__max_depth': 6,\n",
       " 'classifier__max_features': 'auto',\n",
       " 'classifier__n_estimators': 200}"
      ]
     },
     "execution_count": 330,
     "metadata": {},
     "output_type": "execute_result"
    }
   ],
   "source": [
    "grid.best_params_"
   ]
  },
  {
   "cell_type": "markdown",
   "metadata": {},
   "source": [
    "### Pipeline with best model param"
   ]
  },
  {
   "cell_type": "code",
   "execution_count": 326,
   "metadata": {},
   "outputs": [],
   "source": [
    "rf = Pipeline(steps=[('preprocessor', preprocessor),\n",
    "                      ('classifier', RandomForestClassifier(class_weight = 'balanced', random_state = 2,\n",
    "                                                           max_depth = 8, max_features = 0.7, n_estimators = 500))])"
   ]
  },
  {
   "cell_type": "code",
   "execution_count": 325,
   "metadata": {},
   "outputs": [],
   "source": [
    "def model_metric_scores(estimator,df_X,df_Y,cv_fold):\n",
    "    \n",
    "    ## checking roc auc\n",
    "    \n",
    "    estimator_roc_auc = cross_val_score(estimator,df_X,df_Y, cv=cv_fold, scoring='roc_auc')\n",
    "    print(f\"The best roc auc score for given data:\")\n",
    "    print (estimator_roc_auc.mean())\n",
    "    \n",
    "    ## checking log loss\n",
    "    \n",
    "    estimator_log_loss = cross_val_score(estimator,df_X,df_Y, cv=cv_fold, scoring='neg_log_loss')\n",
    "    print(f\"The best log loss score for given data:\")\n",
    "    print (estimator_log_loss.mean())"
   ]
  },
  {
   "cell_type": "code",
   "execution_count": 327,
   "metadata": {},
   "outputs": [
    {
     "name": "stdout",
     "output_type": "stream",
     "text": [
      "The best roc auc score for given data:\n",
      "0.6218761130645898\n",
      "The best log loss score for given data:\n",
      "-0.6699303705171908\n"
     ]
    }
   ],
   "source": [
    "model_metric_scores(rf, X_train, y_train, 5)"
   ]
  },
  {
   "cell_type": "markdown",
   "metadata": {},
   "source": [
    "### Using LightGBM"
   ]
  },
  {
   "cell_type": "code",
   "execution_count": 378,
   "metadata": {},
   "outputs": [],
   "source": [
    "import lightgbm as lgb\n",
    "# import xgboost as xgb\n",
    "## hyperparameter tuning for Light GBM\n",
    "\n",
    "\n",
    "LGBM = lgb.LGBMClassifier(boosting_type='gbdt',random_state = 99,\n",
    "                          class_weight='balanced', objective= 'binary')\n",
    "\n",
    "\n",
    "lgbm = Pipeline(steps=[('preprocessor', preprocessor),\n",
    "                      ('lgbmclassifier', LGBM)])"
   ]
  },
  {
   "cell_type": "code",
   "execution_count": 316,
   "metadata": {},
   "outputs": [
    {
     "name": "stdout",
     "output_type": "stream",
     "text": [
      "[LightGBM] [Warning] min_data_in_leaf is set=100, min_child_samples=20 will be ignored. Current value: min_data_in_leaf=100\n",
      "[LightGBM] [Warning] feature_fraction is set=0.7, colsample_bytree=1.0 will be ignored. Current value: feature_fraction=0.7\n"
     ]
    },
    {
     "data": {
      "text/plain": [
       "GridSearchCV(cv=3,\n",
       "             estimator=Pipeline(steps=[('preprocessor',\n",
       "                                        ColumnTransformer(transformers=[('num',\n",
       "                                                                         Pipeline(steps=[('imputer',\n",
       "                                                                                          SimpleImputer(strategy='median'))]),\n",
       "                                                                         ['Distance']),\n",
       "                                                                        ('cat',\n",
       "                                                                         Pipeline(steps=[('imputer',\n",
       "                                                                                          SimpleImputer(fill_value=-9999,\n",
       "                                                                                                        strategy='constant')),\n",
       "                                                                                         ('catencoder',\n",
       "                                                                                          OrdinalEncoder())]),\n",
       "                                                                         ['Origin',\n",
       "                                                                          'Dest',\n",
       "                                                                          'Day_of_Week',\n",
       "                                                                          'UniqueCarrier'])])),\n",
       "                                       (...\n",
       "                                        LGBMClassifier(class_weight='balanced',\n",
       "                                                       objective='binary',\n",
       "                                                       random_state=99))]),\n",
       "             n_jobs=-1,\n",
       "             param_grid={'lgbmclassifier__feature_fraction': ['auto', 'sqrt',\n",
       "                                                              0.7],\n",
       "                         'lgbmclassifier__learning_rate': [0.1, 0.01],\n",
       "                         'lgbmclassifier__max_depth': [6, 7, 8],\n",
       "                         'lgbmclassifier__min_data_in_leaf': [20, 50, 100],\n",
       "                         'lgbmclassifier__n_estimators': [150, 250],\n",
       "                         'lgbmclassifier__num_leaves': [70, 80]},\n",
       "             scoring='roc_auc')"
      ]
     },
     "execution_count": 316,
     "metadata": {},
     "output_type": "execute_result"
    }
   ],
   "source": [
    "param_grid = { \n",
    "    'lgbmclassifier__n_estimators': [150,250],\n",
    "    'lgbmclassifier__feature_fraction': ['auto', 'sqrt', 0.7],\n",
    "    'lgbmclassifier__max_depth' : [6,7,8],\n",
    "    'lgbmclassifier__learning_rate' : [0.1, 0.01],\n",
    "    'lgbmclassifier__num_leaves' : [70,80],\n",
    "    'lgbmclassifier__min_data_in_leaf' : [20, 50, 100]\n",
    "}\n",
    "\n",
    "\n",
    "grid_lgbm = GridSearchCV(lgbm, cv= 3, n_jobs= -1, param_grid= param_grid, scoring='roc_auc')\n",
    "grid_lgbm.fit(X_train, y_train)"
   ]
  },
  {
   "cell_type": "code",
   "execution_count": 379,
   "metadata": {},
   "outputs": [
    {
     "data": {
      "text/plain": [
       "0.6524534532389323"
      ]
     },
     "execution_count": 379,
     "metadata": {},
     "output_type": "execute_result"
    }
   ],
   "source": [
    "grid_lgbm.best_score_"
   ]
  },
  {
   "cell_type": "code",
   "execution_count": 380,
   "metadata": {},
   "outputs": [
    {
     "data": {
      "text/plain": [
       "{'lgbmclassifier__feature_fraction': 0.7,\n",
       " 'lgbmclassifier__learning_rate': 0.1,\n",
       " 'lgbmclassifier__max_depth': 8,\n",
       " 'lgbmclassifier__min_data_in_leaf': 100,\n",
       " 'lgbmclassifier__n_estimators': 250,\n",
       " 'lgbmclassifier__num_leaves': 80}"
      ]
     },
     "execution_count": 380,
     "metadata": {},
     "output_type": "execute_result"
    }
   ],
   "source": [
    "grid_lgbm.best_params_"
   ]
  },
  {
   "cell_type": "markdown",
   "metadata": {},
   "source": [
    "### model performance on out of sample validation data"
   ]
  },
  {
   "cell_type": "code",
   "execution_count": 318,
   "metadata": {},
   "outputs": [
    {
     "data": {
      "text/plain": [
       "0.6088369758823933"
      ]
     },
     "execution_count": 318,
     "metadata": {},
     "output_type": "execute_result"
    }
   ],
   "source": [
    "y_pred = grid_lgbm.predict(X_valid)\n",
    "\n",
    "roc_auc_score(y_valid,y_pred)"
   ]
  },
  {
   "cell_type": "markdown",
   "metadata": {},
   "source": [
    "### model performance on external test"
   ]
  },
  {
   "cell_type": "code",
   "execution_count": 382,
   "metadata": {},
   "outputs": [],
   "source": [
    "test_df_y = test_df.dep_delayed_15min\n",
    "\n",
    "test_df_x = test_df.drop(['dep_delayed_15min'], axis=1)"
   ]
  },
  {
   "cell_type": "code",
   "execution_count": 383,
   "metadata": {},
   "outputs": [
    {
     "data": {
      "text/plain": [
       "0.6092435336769698"
      ]
     },
     "execution_count": 383,
     "metadata": {},
     "output_type": "execute_result"
    }
   ],
   "source": [
    "test_pred = grid_lgbm.predict(test_df_x)\n",
    "\n",
    "roc_auc_score(test_df_y,test_pred)"
   ]
  },
  {
   "cell_type": "code",
   "execution_count": null,
   "metadata": {},
   "outputs": [],
   "source": []
  }
 ],
 "metadata": {
  "kernelspec": {
   "display_name": "Python 3",
   "language": "python",
   "name": "python3"
  },
  "language_info": {
   "codemirror_mode": {
    "name": "ipython",
    "version": 3
   },
   "file_extension": ".py",
   "mimetype": "text/x-python",
   "name": "python",
   "nbconvert_exporter": "python",
   "pygments_lexer": "ipython3",
   "version": "3.7.6"
  }
 },
 "nbformat": 4,
 "nbformat_minor": 4
}
